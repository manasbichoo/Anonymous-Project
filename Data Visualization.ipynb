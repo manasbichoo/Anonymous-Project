{
 "cells": [
  {
   "cell_type": "code",
   "execution_count": 1,
   "metadata": {},
   "outputs": [],
   "source": [
    "import nltk\n",
    "import pandas as pd\n",
    "import string\n",
    "import re\n",
    "from collections import Counter\n",
    "from nltk.corpus import stopwords"
   ]
  },
  {
   "cell_type": "code",
   "execution_count": 2,
   "metadata": {},
   "outputs": [],
   "source": [
    "#READ DATA : FILE.CSV WHERE NEWS ARTICLES ARE STORED AFTER CRAWLING\n",
    "data=pd.read_csv('file.csv')"
   ]
  },
  {
   "cell_type": "code",
   "execution_count": 3,
   "metadata": {},
   "outputs": [
    {
     "data": {
      "text/plain": [
       "Index(['url', 'title', 'body', 'summary'], dtype='object')"
      ]
     },
     "execution_count": 3,
     "metadata": {},
     "output_type": "execute_result"
    }
   ],
   "source": [
    "#COLUMNS OF DATA FILE\n",
    "data.columns"
   ]
  },
  {
   "cell_type": "code",
   "execution_count": 4,
   "metadata": {},
   "outputs": [
    {
     "data": {
      "text/html": [
       "<div>\n",
       "<style scoped>\n",
       "    .dataframe tbody tr th:only-of-type {\n",
       "        vertical-align: middle;\n",
       "    }\n",
       "\n",
       "    .dataframe tbody tr th {\n",
       "        vertical-align: top;\n",
       "    }\n",
       "\n",
       "    .dataframe thead th {\n",
       "        text-align: right;\n",
       "    }\n",
       "</style>\n",
       "<table border=\"1\" class=\"dataframe\">\n",
       "  <thead>\n",
       "    <tr style=\"text-align: right;\">\n",
       "      <th></th>\n",
       "      <th>url</th>\n",
       "      <th>title</th>\n",
       "      <th>body</th>\n",
       "      <th>summary</th>\n",
       "    </tr>\n",
       "  </thead>\n",
       "  <tbody>\n",
       "    <tr>\n",
       "      <th>0</th>\n",
       "      <td>https://www.linkedin.com/feed/news/states-to-s...</td>\n",
       "      <td>States to set their reopening plans</td>\n",
       "      <td>Reopening the U.S. economy will take place in ...</td>\n",
       "      <td>Reopening the U.S. economy will take place in ...</td>\n",
       "    </tr>\n",
       "    <tr>\n",
       "      <th>1</th>\n",
       "      <td>https://www.linkedin.com/feed/news/china-ends-...</td>\n",
       "      <td>China ends its growth streak</td>\n",
       "      <td>The world's second largest economy officially ...</td>\n",
       "      <td>The world's second largest economy officially ...</td>\n",
       "    </tr>\n",
       "    <tr>\n",
       "      <th>2</th>\n",
       "      <td>https://www.linkedin.com/feed/news/big-tech-hi...</td>\n",
       "      <td>Big Tech hints at workforce changes</td>\n",
       "      <td>Some of the world's biggest tech companies are...</td>\n",
       "      <td>Some of the world's biggest tech companies are...</td>\n",
       "    </tr>\n",
       "    <tr>\n",
       "      <th>3</th>\n",
       "      <td>https://www.linkedin.com/feed/news/workshare-p...</td>\n",
       "      <td>Workshare programs grow in demand</td>\n",
       "      <td>Texas, Oregon, Colorado, Wisconsin and Arkansa...</td>\n",
       "      <td>Texas, Oregon, Colorado, Wisconsin and Arkansa...</td>\n",
       "    </tr>\n",
       "    <tr>\n",
       "      <th>4</th>\n",
       "      <td>https://www.linkedin.com/feed/news/can-the-cru...</td>\n",
       "      <td>Can the cruise industry survive?</td>\n",
       "      <td>The world’s biggest cruise ship companies are ...</td>\n",
       "      <td>The world’s biggest cruise ship companies are ...</td>\n",
       "    </tr>\n",
       "  </tbody>\n",
       "</table>\n",
       "</div>"
      ],
      "text/plain": [
       "                                                 url  \\\n",
       "0  https://www.linkedin.com/feed/news/states-to-s...   \n",
       "1  https://www.linkedin.com/feed/news/china-ends-...   \n",
       "2  https://www.linkedin.com/feed/news/big-tech-hi...   \n",
       "3  https://www.linkedin.com/feed/news/workshare-p...   \n",
       "4  https://www.linkedin.com/feed/news/can-the-cru...   \n",
       "\n",
       "                                 title  \\\n",
       "0  States to set their reopening plans   \n",
       "1         China ends its growth streak   \n",
       "2  Big Tech hints at workforce changes   \n",
       "3    Workshare programs grow in demand   \n",
       "4     Can the cruise industry survive?   \n",
       "\n",
       "                                                body  \\\n",
       "0  Reopening the U.S. economy will take place in ...   \n",
       "1  The world's second largest economy officially ...   \n",
       "2  Some of the world's biggest tech companies are...   \n",
       "3  Texas, Oregon, Colorado, Wisconsin and Arkansa...   \n",
       "4  The world’s biggest cruise ship companies are ...   \n",
       "\n",
       "                                             summary  \n",
       "0  Reopening the U.S. economy will take place in ...  \n",
       "1  The world's second largest economy officially ...  \n",
       "2  Some of the world's biggest tech companies are...  \n",
       "3  Texas, Oregon, Colorado, Wisconsin and Arkansa...  \n",
       "4  The world’s biggest cruise ship companies are ...  "
      ]
     },
     "execution_count": 4,
     "metadata": {},
     "output_type": "execute_result"
    }
   ],
   "source": [
    "#TOP 5 ROWS OF DATA\n",
    "data.head()"
   ]
  },
  {
   "cell_type": "code",
   "execution_count": 5,
   "metadata": {},
   "outputs": [
    {
     "data": {
      "text/html": [
       "<div>\n",
       "<style scoped>\n",
       "    .dataframe tbody tr th:only-of-type {\n",
       "        vertical-align: middle;\n",
       "    }\n",
       "\n",
       "    .dataframe tbody tr th {\n",
       "        vertical-align: top;\n",
       "    }\n",
       "\n",
       "    .dataframe thead th {\n",
       "        text-align: right;\n",
       "    }\n",
       "</style>\n",
       "<table border=\"1\" class=\"dataframe\">\n",
       "  <thead>\n",
       "    <tr style=\"text-align: right;\">\n",
       "      <th></th>\n",
       "      <th>url</th>\n",
       "      <th>title</th>\n",
       "      <th>body</th>\n",
       "      <th>summary</th>\n",
       "    </tr>\n",
       "  </thead>\n",
       "  <tbody>\n",
       "    <tr>\n",
       "      <th>count</th>\n",
       "      <td>29232</td>\n",
       "      <td>29227</td>\n",
       "      <td>26353</td>\n",
       "      <td>26353</td>\n",
       "    </tr>\n",
       "    <tr>\n",
       "      <th>unique</th>\n",
       "      <td>20242</td>\n",
       "      <td>19083</td>\n",
       "      <td>14390</td>\n",
       "      <td>14025</td>\n",
       "    </tr>\n",
       "    <tr>\n",
       "      <th>top</th>\n",
       "      <td>https://food.ndtv.com/lists/10-best-eggless-ca...</td>\n",
       "      <td>Business News, Economic News, Market News, Sha...</td>\n",
       "      <td>CNN name, logo and all associated elements ® a...</td>\n",
       "      <td>CNN name, logo and all associated elements ® a...</td>\n",
       "    </tr>\n",
       "    <tr>\n",
       "      <th>freq</th>\n",
       "      <td>15</td>\n",
       "      <td>58</td>\n",
       "      <td>1975</td>\n",
       "      <td>1975</td>\n",
       "    </tr>\n",
       "  </tbody>\n",
       "</table>\n",
       "</div>"
      ],
      "text/plain": [
       "                                                      url  \\\n",
       "count                                               29232   \n",
       "unique                                              20242   \n",
       "top     https://food.ndtv.com/lists/10-best-eggless-ca...   \n",
       "freq                                                   15   \n",
       "\n",
       "                                                    title  \\\n",
       "count                                               29227   \n",
       "unique                                              19083   \n",
       "top     Business News, Economic News, Market News, Sha...   \n",
       "freq                                                   58   \n",
       "\n",
       "                                                     body  \\\n",
       "count                                               26353   \n",
       "unique                                              14390   \n",
       "top     CNN name, logo and all associated elements ® a...   \n",
       "freq                                                 1975   \n",
       "\n",
       "                                                  summary  \n",
       "count                                               26353  \n",
       "unique                                              14025  \n",
       "top     CNN name, logo and all associated elements ® a...  \n",
       "freq                                                 1975  "
      ]
     },
     "execution_count": 5,
     "metadata": {},
     "output_type": "execute_result"
    }
   ],
   "source": [
    "#DESCRIBE THE DATA STORED IN FILE\n",
    "data.describe()"
   ]
  },
  {
   "cell_type": "code",
   "execution_count": 6,
   "metadata": {},
   "outputs": [
    {
     "data": {
      "text/plain": [
       "29232"
      ]
     },
     "execution_count": 6,
     "metadata": {},
     "output_type": "execute_result"
    }
   ],
   "source": [
    "#TOTAL DATA ROWS\n",
    "len(data)"
   ]
  },
  {
   "cell_type": "code",
   "execution_count": 7,
   "metadata": {},
   "outputs": [],
   "source": [
    "#Remove capitalization and punctuation from our corpus\n",
    "def clean_text(data):\n",
    "    clean1 = re.sub(r'['+string.punctuation + '’—”'+']', \"\", data.lower())\n",
    "    return re.sub(r'\\W+', ' ', clean1)"
   ]
  },
  {
   "cell_type": "code",
   "execution_count": 8,
   "metadata": {},
   "outputs": [],
   "source": [
    "#NEW COLUMN REPRESENTING CLEANED ARTICLES DATA\n",
    "\n",
    "data['tokenized'] = data['body'].map(lambda x: clean_text(str(x)))"
   ]
  },
  {
   "cell_type": "code",
   "execution_count": 9,
   "metadata": {},
   "outputs": [
    {
     "name": "stdout",
     "output_type": "stream",
     "text": [
      "352.5090654077723\n",
      "10553\n",
      "1\n"
     ]
    }
   ],
   "source": [
    "#TOTAL NUMBER OF WORDS IN ARTICLE\n",
    "data['num_wds'] = data['tokenized'].apply(lambda x: len(x.split()))\n",
    "#MEAN OF WORDS PER ARTICLE\n",
    "print(data['num_wds'].mean())\n",
    "#MAXIMUM WORDS IN AN ARTICLE\n",
    "print(data['num_wds'].max())\n",
    "#MINIMUM WORDS IN AN ARTICLE\n",
    "print(data['num_wds'].min())"
   ]
  },
  {
   "cell_type": "code",
   "execution_count": 12,
   "metadata": {},
   "outputs": [
    {
     "name": "stdout",
     "output_type": "stream",
     "text": [
      "331.8766166580445\n"
     ]
    },
    {
     "data": {
      "text/plain": [
       "6"
      ]
     },
     "execution_count": 12,
     "metadata": {},
     "output_type": "execute_result"
    }
   ],
   "source": [
    "#REMOVING ARTICLES WITH ONLY 1 WORD\n",
    "len(data[data['num_wds']==1])\n",
    "data = data[data['num_wds']>1]\n",
    "print(data['num_wds'].mean())\n",
    "data['num_wds'].min()"
   ]
  },
  {
   "cell_type": "code",
   "execution_count": 10,
   "metadata": {},
   "outputs": [
    {
     "name": "stderr",
     "output_type": "stream",
     "text": [
      "Matplotlib is building the font cache using fc-list. This may take a moment.\n"
     ]
    },
    {
     "data": {
      "image/png": "[encoded data removed]",
      "text/plain": [
       "<Figure size 864x720 with 1 Axes>"
      ]
     },
     "metadata": {
      "needs_background": "light"
     },
     "output_type": "display_data"
    }
   ],
   "source": [
    "#NUMBER OF WORDS VS FREQUENCY OF ARTICLES\n",
    "ax=data['num_wds'].plot(kind='hist', bins=50, fontsize=14, figsize=(12,10))\n",
    "ax.set_title('Article Length in Words\\n', fontsize=20)\n",
    "ax.set_ylabel('Frequency', fontsize=18)\n",
    "ax.set_xlabel('Number of Words', fontsize=18);"
   ]
  },
  {
   "cell_type": "code",
   "execution_count": 11,
   "metadata": {},
   "outputs": [
    {
     "data": {
      "text/plain": [
       "0    68\n",
       "1    59\n",
       "2    78\n",
       "3    68\n",
       "4    62\n",
       "Name: uniq_wds, dtype: int64"
      ]
     },
     "execution_count": 11,
     "metadata": {},
     "output_type": "execute_result"
    }
   ],
   "source": [
    "#unique words in each article\n",
    "data['uniq_wds'] = data['tokenized'].str.split().apply(lambda x: len(set(x)))\n",
    "data['uniq_wds'].head()"
   ]
  },
  {
   "cell_type": "code",
   "execution_count": 12,
   "metadata": {},
   "outputs": [
    {
     "name": "stdout",
     "output_type": "stream",
     "text": [
      "168.8802339901478\n",
      "1\n",
      "2671\n"
     ]
    }
   ],
   "source": [
    "#MIN.MAX AND MEAN OF UNIQUE WORDS\n",
    "print(data['uniq_wds'].mean())\n",
    "print(data['uniq_wds'].min())\n",
    "print(data['uniq_wds'].max())"
   ]
  },
  {
   "cell_type": "code",
   "execution_count": 13,
   "metadata": {},
   "outputs": [
    {
     "data": {
      "image/png": "[encoded data removed]",
      "text/plain": [
       "<Figure size 864x720 with 1 Axes>"
      ]
     },
     "metadata": {
      "needs_background": "light"
     },
     "output_type": "display_data"
    }
   ],
   "source": [
    "#UNIQUE WORDS PER ARTICLE\n",
    "ax=data['uniq_wds'].plot(kind='hist', bins=50, fontsize=14, figsize=(12,10))\n",
    "ax.set_title('Unique Words Per Article\\n', fontsize=20)\n",
    "ax.set_ylabel('Frequency', fontsize=18)\n",
    "ax.set_xlabel('Number of Unique Words', fontsize=18);"
   ]
  },
  {
   "cell_type": "code",
   "execution_count": 14,
   "metadata": {},
   "outputs": [],
   "source": [
    "#common words in articles\n",
    "wd_counts = Counter()\n",
    "for i, row in data.iterrows():\n",
    "    wd_counts.update(row['tokenized'].split())"
   ]
  },
  {
   "cell_type": "code",
   "execution_count": 15,
   "metadata": {},
   "outputs": [
    {
     "name": "stderr",
     "output_type": "stream",
     "text": [
      "[nltk_data] Downloading package stopwords to\n",
      "[nltk_data]     /home/anonymous/nltk_data...\n",
      "[nltk_data]   Unzipping corpora/stopwords.zip.\n"
     ]
    },
    {
     "data": {
      "text/plain": [
       "['i',\n",
       " 'me',\n",
       " 'my',\n",
       " 'myself',\n",
       " 'we',\n",
       " 'our',\n",
       " 'ours',\n",
       " 'ourselves',\n",
       " 'you',\n",
       " \"you're\",\n",
       " \"you've\",\n",
       " \"you'll\",\n",
       " \"you'd\",\n",
       " 'your',\n",
       " 'yours',\n",
       " 'yourself',\n",
       " 'yourselves',\n",
       " 'he',\n",
       " 'him',\n",
       " 'his',\n",
       " 'himself',\n",
       " 'she',\n",
       " \"she's\",\n",
       " 'her',\n",
       " 'hers',\n",
       " 'herself',\n",
       " 'it',\n",
       " \"it's\",\n",
       " 'its',\n",
       " 'itself',\n",
       " 'they',\n",
       " 'them',\n",
       " 'their',\n",
       " 'theirs',\n",
       " 'themselves',\n",
       " 'what',\n",
       " 'which',\n",
       " 'who',\n",
       " 'whom',\n",
       " 'this',\n",
       " 'that',\n",
       " \"that'll\",\n",
       " 'these',\n",
       " 'those',\n",
       " 'am',\n",
       " 'is',\n",
       " 'are',\n",
       " 'was',\n",
       " 'were',\n",
       " 'be',\n",
       " 'been',\n",
       " 'being',\n",
       " 'have',\n",
       " 'has',\n",
       " 'had',\n",
       " 'having',\n",
       " 'do',\n",
       " 'does',\n",
       " 'did',\n",
       " 'doing',\n",
       " 'a',\n",
       " 'an',\n",
       " 'the',\n",
       " 'and',\n",
       " 'but',\n",
       " 'if',\n",
       " 'or',\n",
       " 'because',\n",
       " 'as',\n",
       " 'until',\n",
       " 'while',\n",
       " 'of',\n",
       " 'at',\n",
       " 'by',\n",
       " 'for',\n",
       " 'with',\n",
       " 'about',\n",
       " 'against',\n",
       " 'between',\n",
       " 'into',\n",
       " 'through',\n",
       " 'during',\n",
       " 'before',\n",
       " 'after',\n",
       " 'above',\n",
       " 'below',\n",
       " 'to',\n",
       " 'from',\n",
       " 'up',\n",
       " 'down',\n",
       " 'in',\n",
       " 'out',\n",
       " 'on',\n",
       " 'off',\n",
       " 'over',\n",
       " 'under',\n",
       " 'again',\n",
       " 'further',\n",
       " 'then',\n",
       " 'once',\n",
       " 'here',\n",
       " 'there',\n",
       " 'when',\n",
       " 'where',\n",
       " 'why',\n",
       " 'how',\n",
       " 'all',\n",
       " 'any',\n",
       " 'both',\n",
       " 'each',\n",
       " 'few',\n",
       " 'more',\n",
       " 'most',\n",
       " 'other',\n",
       " 'some',\n",
       " 'such',\n",
       " 'no',\n",
       " 'nor',\n",
       " 'not',\n",
       " 'only',\n",
       " 'own',\n",
       " 'same',\n",
       " 'so',\n",
       " 'than',\n",
       " 'too',\n",
       " 'very',\n",
       " 's',\n",
       " 't',\n",
       " 'can',\n",
       " 'will',\n",
       " 'just',\n",
       " 'don',\n",
       " \"don't\",\n",
       " 'should',\n",
       " \"should've\",\n",
       " 'now',\n",
       " 'd',\n",
       " 'll',\n",
       " 'm',\n",
       " 'o',\n",
       " 're',\n",
       " 've',\n",
       " 'y',\n",
       " 'ain',\n",
       " 'aren',\n",
       " \"aren't\",\n",
       " 'couldn',\n",
       " \"couldn't\",\n",
       " 'didn',\n",
       " \"didn't\",\n",
       " 'doesn',\n",
       " \"doesn't\",\n",
       " 'hadn',\n",
       " \"hadn't\",\n",
       " 'hasn',\n",
       " \"hasn't\",\n",
       " 'haven',\n",
       " \"haven't\",\n",
       " 'isn',\n",
       " \"isn't\",\n",
       " 'ma',\n",
       " 'mightn',\n",
       " \"mightn't\",\n",
       " 'mustn',\n",
       " \"mustn't\",\n",
       " 'needn',\n",
       " \"needn't\",\n",
       " 'shan',\n",
       " \"shan't\",\n",
       " 'shouldn',\n",
       " \"shouldn't\",\n",
       " 'wasn',\n",
       " \"wasn't\",\n",
       " 'weren',\n",
       " \"weren't\",\n",
       " 'won',\n",
       " \"won't\",\n",
       " 'wouldn',\n",
       " \"wouldn't\"]"
      ]
     },
     "execution_count": 15,
     "metadata": {},
     "output_type": "execute_result"
    }
   ],
   "source": [
    "#COLLECT STOPWORDS\n",
    "nltk.download('stopwords')\n",
    "stopwords.words('english')"
   ]
  },
  {
   "cell_type": "code",
   "execution_count": 16,
   "metadata": {},
   "outputs": [],
   "source": [
    "#delete the stopwords from our Counter\n",
    "for sw in stopwords.words('english'):\n",
    "    del wd_counts[sw]"
   ]
  },
  {
   "cell_type": "code",
   "execution_count": 17,
   "metadata": {},
   "outputs": [
    {
     "data": {
      "text/plain": [
       "[('said', 39338),\n",
       " ('क', 33149),\n",
       " ('also', 32904),\n",
       " ('india', 22777),\n",
       " ('covid19', 20758),\n",
       " ('coronavirus', 20109),\n",
       " ('र', 19197),\n",
       " ('new', 19191),\n",
       " ('one', 19042),\n",
       " ('people', 17870),\n",
       " ('स', 16962),\n",
       " ('time', 16766),\n",
       " ('ह', 16127),\n",
       " ('lockdown', 15984),\n",
       " ('government', 15075),\n",
       " ('cases', 14855),\n",
       " ('न', 14693),\n",
       " ('news', 14270),\n",
       " ('म', 13997),\n",
       " ('ल', 13958)]"
      ]
     },
     "execution_count": 17,
     "metadata": {},
     "output_type": "execute_result"
    }
   ],
   "source": [
    "#Most common words\n",
    "wd_counts.most_common(20)"
   ]
  },
  {
   "cell_type": "code",
   "execution_count": 18,
   "metadata": {},
   "outputs": [],
   "source": [
    "#find our desired words in an articles\n",
    "def find_cc_wds(content, cc_wds=['COVID', 'covid-19', 'coronavirus', 'corona', 'virus', 'pandemic', 'msme', 'stressed', 'micro', 'small' ,'medium', 'industry', 'industries', 'package', 'strategy', 'strategies', 'revival', 'eroding', 'cash', 'cashflow', 'loans'\n",
    "                                 , 'loan', 'invest', 'investing', 'investment', 'business', 'businesses', 'businessman', 'startups', 'startup', 'kickstart', 'start', 'procure', 'procurement', 'sectors', 'poor', 'rich', 'middle-class', 'stakeholders', 'relief', 'relieve', 'khadi', 'village', 'villages', 'stimulus', 'package',\n",
    "                                 'packages', 'cash loan', 'government', 'central', 'regional', 'center', 'state', 'lockdown', 'quarantine', 'agro', 'agriculture', 'food', 'travel', 'transport', 'health', 'healthcare', 'biomedical', 'medical', 'vaccine', 'vaccines', 'incubator', 'incubators', 'hospital', 'hospitals', 'supply',\n",
    "                                 'demand', 'supply-chain', 'management', 'airlines', 'colleges', 'hotel', 'hotels', 'schools', 'School', 'education', 'EdTech', 'IT', 'tech', 'technology', 'technologies', 'subsidy', 'virtual', 'remote', 'working', 'unemployed', 'unemployment', 'reskill', 'reskilling', 'online', 'courses', 'skilling', 'salary',\n",
    "                                 'salary-cut', 'cut', 'reduced', 'forecast', 'forecasting', 'speed', 'labor', 'wage', 'outbreak', 'loss', 'share', 'package', 'layoff']\n",
    "):\n",
    "    found = False\n",
    "    for w in cc_wds:\n",
    "        if w in content:\n",
    "            found = True\n",
    "            break\n",
    "\n",
    "    if not found:\n",
    "        disj = re.compile(r'(package\\w+\\W+(?:\\w+\\W+){1,5}?government) | (scheme\\W+(?:\\w+\\W+){1,5}?government)')\n",
    "        if disj.match(content):\n",
    "            found = True\n",
    "    return found"
   ]
  },
  {
   "cell_type": "code",
   "execution_count": 19,
   "metadata": {},
   "outputs": [
    {
     "data": {
      "text/plain": [
       "0    True\n",
       "1    True\n",
       "2    True\n",
       "3    True\n",
       "4    True\n",
       "Name: cc_wds, dtype: bool"
      ]
     },
     "execution_count": 19,
     "metadata": {},
     "output_type": "execute_result"
    }
   ],
   "source": [
    "#articles with our words\n",
    "data['cc_wds'] = data['tokenized'].apply(find_cc_wds)\n",
    "data['cc_wds'].head()"
   ]
  },
  {
   "cell_type": "code",
   "execution_count": 20,
   "metadata": {},
   "outputs": [
    {
     "data": {
      "text/plain": [
       "76.31020799124248"
      ]
     },
     "execution_count": 20,
     "metadata": {},
     "output_type": "execute_result"
    }
   ],
   "source": [
    "#% of articles with our words\n",
    "data['cc_wds'].sum() / len(data)*100"
   ]
  }
 ],
 "metadata": {
  "kernelspec": {
   "display_name": "py37_default",
   "language": "python",
   "name": "conda-env-py37_default-py"
  },
  "language_info": {
   "codemirror_mode": {
    "name": "ipython",
    "version": 3
   },
   "file_extension": ".py",
   "mimetype": "text/x-python",
   "name": "python",
   "nbconvert_exporter": "python",
   "pygments_lexer": "ipython3",
   "version": "3.7.6"
  }
 },
 "nbformat": 4,
 "nbformat_minor": 2
}
