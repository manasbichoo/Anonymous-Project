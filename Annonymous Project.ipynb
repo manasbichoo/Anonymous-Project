{
 "cells": [
  {
   "cell_type": "code",
   "execution_count": 1,
   "metadata": {},
   "outputs": [
    {
     "name": "stdout",
     "output_type": "stream",
     "text": [
      "Requirement already satisfied: newspaper3k in /anaconda/envs/py37_default/lib/python3.7/site-packages (0.2.8)\n",
      "Requirement already satisfied: Pillow>=3.3.0 in /anaconda/envs/py37_default/lib/python3.7/site-packages (from newspaper3k) (7.0.0)\n",
      "Requirement already satisfied: PyYAML>=3.11 in /anaconda/envs/py37_default/lib/python3.7/site-packages (from newspaper3k) (5.3.1)\n",
      "Requirement already satisfied: beautifulsoup4>=4.4.1 in /anaconda/envs/py37_default/lib/python3.7/site-packages (from newspaper3k) (4.9.0)\n",
      "Requirement already satisfied: cssselect>=0.9.2 in /anaconda/envs/py37_default/lib/python3.7/site-packages (from newspaper3k) (1.1.0)\n",
      "Requirement already satisfied: requests>=2.10.0 in /anaconda/envs/py37_default/lib/python3.7/site-packages (from newspaper3k) (2.22.0)\n",
      "Requirement already satisfied: tinysegmenter==0.3 in /anaconda/envs/py37_default/lib/python3.7/site-packages (from newspaper3k) (0.3)\n",
      "Requirement already satisfied: jieba3k>=0.35.1 in /anaconda/envs/py37_default/lib/python3.7/site-packages (from newspaper3k) (0.35.1)\n",
      "Requirement already satisfied: python-dateutil>=2.5.3 in /anaconda/envs/py37_default/lib/python3.7/site-packages (from newspaper3k) (2.8.1)\n",
      "Requirement already satisfied: nltk>=3.2.1 in /anaconda/envs/py37_default/lib/python3.7/site-packages (from newspaper3k) (3.4.5)\n",
      "Requirement already satisfied: lxml>=3.6.0 in /anaconda/envs/py37_default/lib/python3.7/site-packages (from newspaper3k) (4.5.0)\n",
      "Requirement already satisfied: tldextract>=2.0.1 in /anaconda/envs/py37_default/lib/python3.7/site-packages (from newspaper3k) (2.2.2)\n",
      "Requirement already satisfied: feedparser>=5.2.1 in /anaconda/envs/py37_default/lib/python3.7/site-packages (from newspaper3k) (5.2.1)\n",
      "Requirement already satisfied: feedfinder2>=0.0.4 in /anaconda/envs/py37_default/lib/python3.7/site-packages (from newspaper3k) (0.0.4)\n",
      "Requirement already satisfied: soupsieve>1.2 in /anaconda/envs/py37_default/lib/python3.7/site-packages (from beautifulsoup4>=4.4.1->newspaper3k) (2.0)\n",
      "Requirement already satisfied: urllib3!=1.25.0,!=1.25.1,<1.26,>=1.21.1 in /anaconda/envs/py37_default/lib/python3.7/site-packages (from requests>=2.10.0->newspaper3k) (1.25.8)\n",
      "Requirement already satisfied: idna<2.9,>=2.5 in /anaconda/envs/py37_default/lib/python3.7/site-packages (from requests>=2.10.0->newspaper3k) (2.8)\n",
      "Requirement already satisfied: chardet<3.1.0,>=3.0.2 in /anaconda/envs/py37_default/lib/python3.7/site-packages (from requests>=2.10.0->newspaper3k) (3.0.4)\n",
      "Requirement already satisfied: certifi>=2017.4.17 in /anaconda/envs/py37_default/lib/python3.7/site-packages (from requests>=2.10.0->newspaper3k) (2019.11.28)\n",
      "Requirement already satisfied: six>=1.5 in /anaconda/envs/py37_default/lib/python3.7/site-packages (from python-dateutil>=2.5.3->newspaper3k) (1.14.0)\n",
      "Requirement already satisfied: setuptools in /anaconda/envs/py37_default/lib/python3.7/site-packages (from tldextract>=2.0.1->newspaper3k) (45.1.0.post20200127)\n",
      "Requirement already satisfied: requests-file>=1.4 in /anaconda/envs/py37_default/lib/python3.7/site-packages (from tldextract>=2.0.1->newspaper3k) (1.5.0)\n",
      "Requirement already satisfied: nltk in /anaconda/envs/py37_default/lib/python3.7/site-packages (3.4.5)\n",
      "Requirement already satisfied: six in /anaconda/envs/py37_default/lib/python3.7/site-packages (from nltk) (1.14.0)\n",
      "Requirement already satisfied: pandas in /anaconda/envs/py37_default/lib/python3.7/site-packages (1.0.0)\n",
      "Requirement already satisfied: python-dateutil>=2.6.1 in /anaconda/envs/py37_default/lib/python3.7/site-packages (from pandas) (2.8.1)\n",
      "Requirement already satisfied: pytz>=2017.2 in /anaconda/envs/py37_default/lib/python3.7/site-packages (from pandas) (2019.3)\n",
      "Requirement already satisfied: numpy>=1.13.3 in /anaconda/envs/py37_default/lib/python3.7/site-packages (from pandas) (1.18.1)\n",
      "Requirement already satisfied: six>=1.5 in /anaconda/envs/py37_default/lib/python3.7/site-packages (from python-dateutil>=2.6.1->pandas) (1.14.0)\n"
     ]
    }
   ],
   "source": [
    "#Install these packages\n",
    "!pip install newspaper3k\n",
    "!pip install nltk\n",
    "!pip install pandas"
   ]
  },
  {
   "cell_type": "code",
   "execution_count": 1,
   "metadata": {},
   "outputs": [],
   "source": [
    "#Import the packages\n",
    "import newspaper\n",
    "from newspaper import Article\n",
    "import nltk\n",
    "import pandas as pd"
   ]
  },
  {
   "cell_type": "code",
   "execution_count": 2,
   "metadata": {},
   "outputs": [
    {
     "name": "stderr",
     "output_type": "stream",
     "text": [
      "[nltk_data] Downloading package punkt to /home/anonymous/nltk_data...\n",
      "[nltk_data]   Package punkt is already up-to-date!\n"
     ]
    },
    {
     "data": {
      "text/plain": [
       "True"
      ]
     },
     "execution_count": 2,
     "metadata": {},
     "output_type": "execute_result"
    }
   ],
   "source": [
    "#Download punkt package of nltk library\n",
    "nltk.download('punkt')"
   ]
  },
  {
   "cell_type": "code",
   "execution_count": 3,
   "metadata": {},
   "outputs": [],
   "source": [
    "#LIST OF ALL THE NEWS WEBSITES TO BE CRAWLED\n",
    "\n",
    "newspaperlist=['https://timesofindia.indiatimes.com','https://www.ndtv.com'\n",
    ",'https://indianexpress.com'\n",
    ",'https://www.thehindu.com'\n",
    ",'https://www.news18.com'\n",
    ",'https://www.firstpost.com'\n",
    ",'https://www.business-standard.com'\n",
    ",'https://www.dnaindia.com'\n",
    ",'https://www.deccanchronicle.com' \n",
    ",'https://scroll.in' \n",
    ",'https://www.financialexpress.com' \n",
    ",'https://www.thehindubusinessline.com' \n",
    ",'https://www.outlookindia.com' \n",
    ",'https://www.thequint.com' \n",
    ",'https://www.freepressjournal.in/' \n",
    ",'https://news.abplive.com'\n",
    ",'https://www.hindustantimes.com' \n",
    ",'https://www.altnews.in'\n",
    ",'http://www.bloombergquint.com'\n",
    ",'https://thewire.in' \n",
    ",'https://theprint.in'\n",
    ",'http://www.vccircle.com' \n",
    ",'https://www.moneycontrol.com' \n",
    ",'https://www.livemint.com' \n",
    ",'https://www.businesstoday.in' \n",
    ",'https://www.cnbctv18.com' \n",
    ",'https://auto.economictimes.indiatimes.com' \n",
    ",'https://economictimes.indiatimes.com' \n",
    ",'https://mumbaimirror.indiatimes.com' \n",
    ",'https://www.timesnownews.com/business-economy' \n",
    ",'https://www.deccanherald.com' \n",
    ",'https://swarajyamag.com' \n",
    ",'https://news.abplive.com' \n",
    ",'https://www.ndtv.com/business' \n",
    ",'https://www.moneylife.in/' \n",
    ",'https://www.thehindubusinessline.com' \n",
    ",'https://www.tribuneindia.com' \n",
    "]"
   ]
  },
  {
   "cell_type": "code",
   "execution_count": null,
   "metadata": {},
   "outputs": [
    {
     "name": "stdout",
     "output_type": "stream",
     "text": [
      "7\n",
      "Articles added for indiatimes\n",
      "86\n",
      "Articles added for ndtv\n",
      "26\n",
      "Articles added for indianexpress\n",
      "0\n",
      "Articles added for thehindu\n",
      "124\n",
      "Articles added for news18\n",
      "31\n",
      "Articles added for firstpost\n",
      "29\n",
      "Articles added for business-standard\n",
      "7\n",
      "Articles added for dnaindia\n",
      "561\n"
     ]
    },
    {
     "name": "stderr",
     "output_type": "stream",
     "text": [
      "/anaconda/envs/py37_default/lib/python3.7/site-packages/dateutil/parser/_parser.py:1218: UnknownTimezoneWarning: tzname IST identified but not understood.  Pass `tzinfos` argument in order to correctly return a timezone-aware datetime.  In a future version, this will raise an exception.\n",
      "  category=UnknownTimezoneWarning)\n"
     ]
    },
    {
     "name": "stdout",
     "output_type": "stream",
     "text": [
      "Article `download()` failed with 404 Client Error: Not Found for url: https://www.deccanchronicle.com/404.html on URL https://www.deccanchronicle.com/gallery/sports/020320/vanquished-virats-boys-trudge-back-to-the-pavilion.html\n",
      "continuing...\n",
      "Article `download()` failed with HTTPSConnectionPool(host='www.deccanchronicle.com', port=443): Read timed out. (read timeout=7) on URL https://www.deccanchronicle.com/technology/mobiles-and-tabs/220220/tcl-working-on-a-slide-out-foldable-smartphone-pictures-inside.html\n",
      "continuing...\n",
      "Article `download()` failed with HTTPSConnectionPool(host='www.deccanchronicle.com', port=443): Read timed out. (read timeout=7) on URL https://www.deccanchronicle.com/technology/mobiles-and-tabs/290220/vivo-releases-apex-2020-concept-phone-with-edgeless-display-gimbal-ca.html\n",
      "continuing...\n",
      "Article `download()` failed with HTTPSConnectionPool(host='www.deccanchronicle.com', port=443): Read timed out. (read timeout=7) on URL https://www.deccanchronicle.com/technology/mobiles-and-tabs/250320/download-now-ios-134-update-fixes-several-bugs-on-iphone-ipad.html\n",
      "continuing...\n",
      "Articles added for deccanchronicle\n",
      "26\n",
      "Articles added for scroll\n",
      "138\n",
      "Article `download()` failed with HTTPSConnectionPool(host='www.expressindia.com', port=443): Max retries exceeded with url: /news/expressgroup/ (Caused by SSLError(SSLCertVerificationError(1, '[SSL: CERTIFICATE_VERIFY_FAILED] certificate verify failed: unable to get local issuer certificate (_ssl.c:1076)'))) on URL https://www.expressindia.com/news/expressgroup/\n",
      "continuing...\n",
      "Articles added for financialexpress\n",
      "11\n",
      "Articles added for thehindubusinessline\n",
      "145\n",
      "Articles added for outlookindia\n",
      "612\n"
     ]
    }
   ],
   "source": [
    "#EMPTY DICTIONARY TO STORE CRAWLED DATA\n",
    "df = {'url':[],'title':[],'body':[],'summary':[]}\n",
    "#SCRIPT TO CRAWL THROUGH ALL THE NEWS WEBSITES:\n",
    "\n",
    "for link in newspaperlist:\n",
    "\tpaper=newspaper.build(link)\n",
    "\tsize=paper.size()\n",
    "\tprint(size)\n",
    "\tfor article in paper.articles:\n",
    "\t\ttry:\n",
    "\t\t\tarticle.download()\n",
    "\t\t\tarticle.parse()\n",
    "\t\texcept Exception as e:\n",
    "\t\t\tprint(e)\n",
    "\t\t\tprint(\"continuing...\")\n",
    "\t\t\tcontinue\n",
    "\t\tarticle.nlp()\n",
    "\t\tdf['url'].append(article.url)\n",
    "\t\tdf['title'].append(article.title)\n",
    "\t\tdf['body'].append(article.text)\n",
    "\t\tdf['summary'].append(article.summary)\n",
    "\tdf1=pd.DataFrame(df)\n",
    "\tdf2=pd.read_csv('file.csv')\n",
    "\tresult = df2.append(df1, ignore_index=True, sort=False)\n",
    "\tresult.to_csv('file.csv',index=False) \n",
    "\tprint(\"Articles added for {}\".format(paper.brand))\n",
    "\tdf = {'url':[],'title':[],'body':[],'summary':[]}"
   ]
  },
  {
   "cell_type": "code",
   "execution_count": 5,
   "metadata": {},
   "outputs": [],
   "source": [
    "df=pd.read_csv('file.csv')"
   ]
  },
  {
   "cell_type": "code",
   "execution_count": 6,
   "metadata": {},
   "outputs": [
    {
     "data": {
      "text/plain": [
       "63720"
      ]
     },
     "execution_count": 6,
     "metadata": {},
     "output_type": "execute_result"
    }
   ],
   "source": [
    "len(df)"
   ]
  },
  {
   "cell_type": "code",
   "execution_count": 7,
   "metadata": {},
   "outputs": [
    {
     "data": {
      "text/html": [
       "<div>\n",
       "<style scoped>\n",
       "    .dataframe tbody tr th:only-of-type {\n",
       "        vertical-align: middle;\n",
       "    }\n",
       "\n",
       "    .dataframe tbody tr th {\n",
       "        vertical-align: top;\n",
       "    }\n",
       "\n",
       "    .dataframe thead th {\n",
       "        text-align: right;\n",
       "    }\n",
       "</style>\n",
       "<table border=\"1\" class=\"dataframe\">\n",
       "  <thead>\n",
       "    <tr style=\"text-align: right;\">\n",
       "      <th></th>\n",
       "      <th>url</th>\n",
       "      <th>title</th>\n",
       "      <th>body</th>\n",
       "      <th>summary</th>\n",
       "    </tr>\n",
       "  </thead>\n",
       "  <tbody>\n",
       "    <tr>\n",
       "      <th>count</th>\n",
       "      <td>63720</td>\n",
       "      <td>63710</td>\n",
       "      <td>57636</td>\n",
       "      <td>57636</td>\n",
       "    </tr>\n",
       "    <tr>\n",
       "      <th>unique</th>\n",
       "      <td>33613</td>\n",
       "      <td>31471</td>\n",
       "      <td>24134</td>\n",
       "      <td>23509</td>\n",
       "    </tr>\n",
       "    <tr>\n",
       "      <th>top</th>\n",
       "      <td>https://food.ndtv.com/lists/10-best-recipes-fr...</td>\n",
       "      <td>Business News, Economic News, Market News, Sha...</td>\n",
       "      <td>CNN name, logo and all associated elements ® a...</td>\n",
       "      <td>CNN name, logo and all associated elements ® a...</td>\n",
       "    </tr>\n",
       "    <tr>\n",
       "      <th>freq</th>\n",
       "      <td>20</td>\n",
       "      <td>116</td>\n",
       "      <td>4510</td>\n",
       "      <td>4510</td>\n",
       "    </tr>\n",
       "  </tbody>\n",
       "</table>\n",
       "</div>"
      ],
      "text/plain": [
       "                                                      url  \\\n",
       "count                                               63720   \n",
       "unique                                              33613   \n",
       "top     https://food.ndtv.com/lists/10-best-recipes-fr...   \n",
       "freq                                                   20   \n",
       "\n",
       "                                                    title  \\\n",
       "count                                               63710   \n",
       "unique                                              31471   \n",
       "top     Business News, Economic News, Market News, Sha...   \n",
       "freq                                                  116   \n",
       "\n",
       "                                                     body  \\\n",
       "count                                               57636   \n",
       "unique                                              24134   \n",
       "top     CNN name, logo and all associated elements ® a...   \n",
       "freq                                                 4510   \n",
       "\n",
       "                                                  summary  \n",
       "count                                               57636  \n",
       "unique                                              23509  \n",
       "top     CNN name, logo and all associated elements ® a...  \n",
       "freq                                                 4510  "
      ]
     },
     "execution_count": 7,
     "metadata": {},
     "output_type": "execute_result"
    }
   ],
   "source": [
    "df.describe()"
   ]
  },
  {
   "cell_type": "code",
   "execution_count": null,
   "metadata": {},
   "outputs": [],
   "source": []
  }
 ],
 "metadata": {
  "kernelspec": {
   "display_name": "py37_default",
   "language": "python",
   "name": "conda-env-py37_default-py"
  },
  "language_info": {
   "codemirror_mode": {
    "name": "ipython",
    "version": 3
   },
   "file_extension": ".py",
   "mimetype": "text/x-python",
   "name": "python",
   "nbconvert_exporter": "python",
   "pygments_lexer": "ipython3",
   "version": "3.7.6"
  }
 },
 "nbformat": 4,
 "nbformat_minor": 2
}
